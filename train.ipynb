{
 "cells": [
  {
   "cell_type": "code",
   "execution_count": 4,
   "id": "e8462e40",
   "metadata": {},
   "outputs": [],
   "source": [
    "# Conversion of code from TensorFlow to PyTorch\n",
    "\n",
    "# Import necessary libraries\n",
    "import torch\n",
    "import torch.nn as nn\n",
    "import torch.optim as optim\n",
    "import pandas as pd\n",
    "import numpy as np\n",
    "import sklearn\n",
    "from sklearn.model_selection import train_test_split\n",
    "from sklearn.preprocessing import MinMaxScaler\n",
    "from sklearn.pipeline import Pipeline\n",
    "import matplotlib.pyplot as plt\n",
    "import seaborn as sns\n",
    "import random as rn\n",
    "import joblib\n",
    "from torch.utils.data import Dataset, DataLoader\n",
    "import time"
   ]
  },
  {
   "cell_type": "code",
   "execution_count": 61,
   "id": "56ac8b18",
   "metadata": {},
   "outputs": [],
   "source": [
    "# Preset parameters\n",
    "RANDOM_SEED = 42\n",
    "VALIDATE_SIZE = 0.2"
   ]
  },
  {
   "cell_type": "code",
   "execution_count": 62,
   "id": "c848d70e",
   "metadata": {},
   "outputs": [],
   "source": [
    "# Setting random seeds to ensure reproducibility\n",
    "torch.manual_seed(RANDOM_SEED)\n",
    "np.random.seed(RANDOM_SEED)\n",
    "rn.seed(RANDOM_SEED)"
   ]
  },
  {
   "cell_type": "code",
   "execution_count": 162,
   "id": "81861379",
   "metadata": {},
   "outputs": [],
   "source": [
    "# Define patients and their corresponding files\n",
    "patients = {\n",
    "    1: ['/Users/subhadyutirath/Desktop/FlowCytometryPytorch/data/organized_fcs_data1a.csv',\n",
    "        '/Users/subhadyutirath/Desktop/FlowCytometryPytorch/data/organized_fcs_data1b.csv',\n",
    "        '/Users/subhadyutirath/Desktop/FlowCytometryPytorch/data/organized_fcs_data1c.csv'],\n",
    "    2: ['/Users/subhadyutirath/Desktop/FlowCytometryPytorch/data/organized_fcs_data2a.csv',\n",
    "        '/Users/subhadyutirath/Desktop/FlowCytometryPytorch/data/organized_fcs_data2b.csv',\n",
    "        '/Users/subhadyutirath/Desktop/FlowCytometryPytorch/data/organized_fcs_data2c.csv'],\n",
    "    3: ['/Users/subhadyutirath/Desktop/FlowCytometryPytorch/data/organized_fcs_data3a.csv',\n",
    "        '/Users/subhadyutirath/Desktop/FlowCytometryPytorch/data/organized_fcs_data3b.csv',\n",
    "        '/Users/subhadyutirath/Desktop/FlowCytometryPytorch/data/organized_fcs_data3c.csv'],\n",
    "    4: ['/Users/subhadyutirath/Desktop/FlowCytometryPytorch/data/organized_fcs_data4a.csv', \n",
    "        '/Users/subhadyutirath/Desktop/FlowCytometryPytorch/data/organized_fcs_data4b.csv',\n",
    "        '/Users/subhadyutirath/Desktop/FlowCytometryPytorch/data/organized_fcs_data4c.csv'],    \n",
    "    5: ['/Users/subhadyutirath/Desktop/FlowCytometryPytorch/data/organized_fcs_data5a.csv',\n",
    "        '/Users/subhadyutirath/Desktop/FlowCytometryPytorch/data/organized_fcs_data5b.csv',\n",
    "        '/Users/subhadyutirath/Desktop/FlowCytometryPytorch/data/organized_fcs_data5c.csv'],\n",
    "    6: ['/Users/subhadyutirath/Desktop/FlowCytometryPytorch/data/organized_fcs_data6a.csv',\n",
    "        '/Users/subhadyutirath/Desktop/FlowCytometryPytorch/data/organized_fcs_data6b.csv',\n",
    "        '/Users/subhadyutirath/Desktop/FlowCytometryPytorch/data/organized_fcs_data6c.csv'],\n",
    "    7: ['/Users/subhadyutirath/Desktop/FlowCytometryPytorch/data/organized_fcs_data7.csv'],    \n",
    "    8: ['/Users/subhadyutirath/Desktop/FlowCytometryPytorch/data/organized_fcs_data8a.csv',\n",
    "        '/Users/subhadyutirath/Desktop/FlowCytometryPytorch/data/organized_fcs_data8b.csv',\n",
    "        '/Users/subhadyutirath/Desktop/FlowCytometryPytorch/data/organized_fcs_data8c.csv'],\n",
    "    9: ['/Users/subhadyutirath/Desktop/FlowCytometryPytorch/data/organized_fcs_data9a.csv',\n",
    "        '/Users/subhadyutirath/Desktop/FlowCytometryPytorch/data/organized_fcs_data9b.csv'],\n",
    "    10: ['/Users/subhadyutirath/Desktop/FlowCytometryPytorch/data/organized_fcs_data10a.csv',\n",
    "         '/Users/subhadyutirath/Desktop/FlowCytometryPytorch/data/organized_fcs_data10b.csv',\n",
    "         '/Users/subhadyutirath/Desktop/FlowCytometryPytorch/data/organized_fcs_data10c.csv'],\n",
    "    11: ['/Users/subhadyutirath/Desktop/FlowCytometryPytorch/data/organized_fcs_data11.csv'],  \n",
    "    12: ['/Users/subhadyutirath/Desktop/FlowCytometryPytorch/data/organized_fcs_data12a.csv',\n",
    "        '/Users/subhadyutirath/Desktop/FlowCytometryPytorch/data/organized_fcs_data12b.csv',\n",
    "        '/Users/subhadyutirath/Desktop/FlowCytometryPytorch/data/organized_fcs_data12c.csv']   \n",
    "}"
   ]
  },
  {
   "cell_type": "code",
   "execution_count": null,
   "id": "f95e2f54",
   "metadata": {},
   "outputs": [],
   "source": [
    "# # Load, merge, and sample data for each patient\n",
    "# training_dfs = []\n",
    "# testing_dfs = []\n",
    "# i=0\n",
    "# for patient_id, file_paths in patients.items():\n",
    "#     # Load all three CSV files for the patient and drop the \"Time\" column\n",
    "#     if i < 5:\n",
    "#         patient_data = pd.concat([pd.read_csv(file).drop(columns=['Time'], errors='ignore') for file in file_paths])\n",
    "#         training_dfs.append(patient_data)\n",
    "#         i+=1\n",
    "#     else:\n",
    "#         patient_data = pd.concat([pd.read_csv(file).drop(columns=['Time'], errors='ignore') for file in file_paths])\n",
    "#         testing_dfs.append(patient_data)\n",
    "    \n",
    "# train_full=pd.concat(training_dfs, ignore_index=True)\n",
    "# test_full=pd.concat(testing_dfs, ignore_index=True)"
   ]
  },
  {
   "cell_type": "code",
   "execution_count": null,
   "id": "84bd204f",
   "metadata": {},
   "outputs": [],
   "source": [
    "# Split 1:\n",
    "# Training : 5 healthy patients\n",
    "# Testing : 1 healthy patient + 6 unhealthy patient\n",
    "\n",
    "# import random\n",
    "# import pandas as pd\n",
    "\n",
    "# training_dfs = []\n",
    "# testing_dfs = []\n",
    "\n",
    "# first_six_ids = list(patients.keys())[:6]\n",
    "# training_ids = set(random.sample(first_six_ids, 5))\n",
    "\n",
    "# for patient_id, file_paths in patients.items():\n",
    "#     # Load all three CSV files for the patient and drop the \"Time\" column\n",
    "#     patient_data = pd.concat([pd.read_csv(file).drop(columns=['Time'], errors='ignore') for file in file_paths])\n",
    "    \n",
    "#     if patient_id in training_ids:\n",
    "#         training_dfs.append(patient_data)\n",
    "#     else:\n",
    "#         testing_dfs.append(patient_data)\n",
    "\n",
    "# train_full = pd.concat(training_dfs, ignore_index=True)\n",
    "# test_full = pd.concat(testing_dfs, ignore_index=True)"
   ]
  },
  {
   "cell_type": "code",
   "execution_count": null,
   "id": "d469fb0a",
   "metadata": {},
   "outputs": [
    {
     "name": "stdout",
     "output_type": "stream",
     "text": [
      "{1, 3, 4, 5, 6}\n"
     ]
    }
   ],
   "source": [
    "# print(training_ids)"
   ]
  },
  {
   "cell_type": "code",
   "execution_count": null,
   "id": "702db565",
   "metadata": {},
   "outputs": [
    {
     "name": "stdout",
     "output_type": "stream",
     "text": [
      "Training data samples: 5\n",
      "Testing data samples: 7\n"
     ]
    }
   ],
   "source": [
    "# print(f\"Training data samples: {len(training_dfs)}\")\n",
    "# print(f\"Testing data samples: {len(testing_dfs)}\")"
   ]
  },
  {
   "cell_type": "code",
   "execution_count": null,
   "id": "7dcf1cf2",
   "metadata": {},
   "outputs": [],
   "source": [
    "# Split 2:\n",
    "# Training : 5 healthy patients \n",
    "# Validation : 1 healthy patient \n",
    "\n",
    "# import random\n",
    "# import pandas as pd\n",
    "\n",
    "# training_dfs = []\n",
    "# testing_dfs = []\n",
    "\n",
    "# first_six_ids = list(patients.keys())[:6]\n",
    "# training_ids = set(random.sample(first_six_ids, 5))\n",
    "\n",
    "# for patient_id, file_paths in patients.items():\n",
    "#     # Load all three CSV files for the patient and drop the \"Time\" column\n",
    "#     patient_data = pd.concat([pd.read_csv(file).drop(columns=['Time'], errors='ignore') for file in file_paths])\n",
    "    \n",
    "#     if patient_id in training_ids:\n",
    "#         training_dfs.append(patient_data)\n",
    "#     if patient_id not in training_ids and patient_id in first_six_ids:\n",
    "#         testing_dfs.append(patient_data)\n",
    "\n",
    "# train_full = pd.concat(training_dfs, ignore_index=True)\n",
    "# # test_full = pd.concat(testing_dfs, ignore_index=True)\n",
    "# test_full = pd.concat(testing_dfs, ignore_index=True)"
   ]
  },
  {
   "cell_type": "code",
   "execution_count": null,
   "id": "f00fa63c",
   "metadata": {},
   "outputs": [
    {
     "name": "stdout",
     "output_type": "stream",
     "text": [
      "{1, 2, 3, 5, 6}\n"
     ]
    }
   ],
   "source": [
    "# print(training_ids)"
   ]
  },
  {
   "cell_type": "code",
   "execution_count": null,
   "id": "797a272b",
   "metadata": {},
   "outputs": [
    {
     "name": "stdout",
     "output_type": "stream",
     "text": [
      "Training data samples: 5\n",
      "Testing data samples: 1\n"
     ]
    }
   ],
   "source": [
    "# print(f\"Training data samples: {len(training_dfs)}\")\n",
    "# print(f\"Testing data samples: {len(testing_dfs)}\")"
   ]
  },
  {
   "cell_type": "code",
   "execution_count": 112,
   "id": "f12660ed",
   "metadata": {},
   "outputs": [],
   "source": [
    "training_dfs = []\n",
    "testing_dfs = []\n",
    "\n",
    "first_six_ids = [1, 2, 3, 4, 5, 6]\n",
    "training_ids = [1,2,3,4,5]  \n",
    "\n",
    "for patient_id, file_paths in patients.items():\n",
    "    # Load all three CSV files for the patient and drop the \"Time\" column\n",
    "    patient_data = pd.concat([pd.read_csv(file).drop(columns=['Time'], errors='ignore') for file in file_paths])\n",
    "    \n",
    "    if patient_id in training_ids:\n",
    "        training_dfs.append(patient_data)\n",
    "    if patient_id not in training_ids and patient_id in first_six_ids:\n",
    "        testing_dfs.append(patient_data)\n",
    "\n",
    "train_full = pd.concat(training_dfs, ignore_index=True)\n",
    "test_full = pd.concat(testing_dfs, ignore_index=True)"
   ]
  },
  {
   "cell_type": "code",
   "execution_count": 113,
   "id": "cc5351d7",
   "metadata": {},
   "outputs": [
    {
     "name": "stdout",
     "output_type": "stream",
     "text": [
      "Training data samples: 5\n",
      "Testing data samples: 1\n"
     ]
    }
   ],
   "source": [
    "print(f\"Training data samples: {len(training_dfs)}\")\n",
    "print(f\"Testing data samples: {len(testing_dfs)}\")"
   ]
  },
  {
   "cell_type": "code",
   "execution_count": 114,
   "id": "91853eca",
   "metadata": {},
   "outputs": [
    {
     "data": {
      "text/plain": [
       "4800000"
      ]
     },
     "execution_count": 114,
     "metadata": {},
     "output_type": "execute_result"
    }
   ],
   "source": [
    "len(test_full)"
   ]
  },
  {
   "cell_type": "code",
   "execution_count": 10,
   "id": "d53ac8b0",
   "metadata": {},
   "outputs": [],
   "source": [
    "# full_dataset = pd.concat(sampled_dfs)# Concatenate all sampled dataframes into a single dataframe\n"
   ]
  },
  {
   "cell_type": "code",
   "execution_count": 11,
   "id": "106ae8ec",
   "metadata": {},
   "outputs": [],
   "source": [
    "# # Shuffle the data\n",
    "# shuffled_dataset = full_dataset.sample(frac=1, random_state=42).reset_index(drop=True)"
   ]
  },
  {
   "cell_type": "code",
   "execution_count": 12,
   "id": "659701c5",
   "metadata": {},
   "outputs": [],
   "source": [
    "# # Split into training (80%) and validation (20%)\n",
    "# train_df, val_df = train_test_split(shuffled_dataset, test_size=0.2, random_state=42)"
   ]
  },
  {
   "cell_type": "code",
   "execution_count": 13,
   "id": "c30ac755",
   "metadata": {},
   "outputs": [
    {
     "name": "stdout",
     "output_type": "stream",
     "text": [
      "Training set size: 23448575 cells\n",
      "Validation set size: 24427497 cells\n"
     ]
    }
   ],
   "source": [
    "# Save the splits\n",
    "train_full.to_csv('training_data.csv', index=False)\n",
    "test_full.to_csv('validation_data.csv', index=False)\n",
    "\n",
    "# # Print summary\n",
    "# print(f\"Total dataset size: {len(train_full)} cells\")\n",
    "print(f\"Training set size: {len(train_full)} cells\")\n",
    "print(f\"Validation set size: {len(test_full)} cells\")"
   ]
  },
  {
   "cell_type": "code",
   "execution_count": null,
   "id": "187e6e0a",
   "metadata": {},
   "outputs": [
    {
     "data": {
      "text/html": [
       "<style>#sk-container-id-7 {\n",
       "  /* Definition of color scheme common for light and dark mode */\n",
       "  --sklearn-color-text: black;\n",
       "  --sklearn-color-line: gray;\n",
       "  /* Definition of color scheme for unfitted estimators */\n",
       "  --sklearn-color-unfitted-level-0: #fff5e6;\n",
       "  --sklearn-color-unfitted-level-1: #f6e4d2;\n",
       "  --sklearn-color-unfitted-level-2: #ffe0b3;\n",
       "  --sklearn-color-unfitted-level-3: chocolate;\n",
       "  /* Definition of color scheme for fitted estimators */\n",
       "  --sklearn-color-fitted-level-0: #f0f8ff;\n",
       "  --sklearn-color-fitted-level-1: #d4ebff;\n",
       "  --sklearn-color-fitted-level-2: #b3dbfd;\n",
       "  --sklearn-color-fitted-level-3: cornflowerblue;\n",
       "\n",
       "  /* Specific color for light theme */\n",
       "  --sklearn-color-text-on-default-background: var(--sg-text-color, var(--theme-code-foreground, var(--jp-content-font-color1, black)));\n",
       "  --sklearn-color-background: var(--sg-background-color, var(--theme-background, var(--jp-layout-color0, white)));\n",
       "  --sklearn-color-border-box: var(--sg-text-color, var(--theme-code-foreground, var(--jp-content-font-color1, black)));\n",
       "  --sklearn-color-icon: #696969;\n",
       "\n",
       "  @media (prefers-color-scheme: dark) {\n",
       "    /* Redefinition of color scheme for dark theme */\n",
       "    --sklearn-color-text-on-default-background: var(--sg-text-color, var(--theme-code-foreground, var(--jp-content-font-color1, white)));\n",
       "    --sklearn-color-background: var(--sg-background-color, var(--theme-background, var(--jp-layout-color0, #111)));\n",
       "    --sklearn-color-border-box: var(--sg-text-color, var(--theme-code-foreground, var(--jp-content-font-color1, white)));\n",
       "    --sklearn-color-icon: #878787;\n",
       "  }\n",
       "}\n",
       "\n",
       "#sk-container-id-7 {\n",
       "  color: var(--sklearn-color-text);\n",
       "}\n",
       "\n",
       "#sk-container-id-7 pre {\n",
       "  padding: 0;\n",
       "}\n",
       "\n",
       "#sk-container-id-7 input.sk-hidden--visually {\n",
       "  border: 0;\n",
       "  clip: rect(1px 1px 1px 1px);\n",
       "  clip: rect(1px, 1px, 1px, 1px);\n",
       "  height: 1px;\n",
       "  margin: -1px;\n",
       "  overflow: hidden;\n",
       "  padding: 0;\n",
       "  position: absolute;\n",
       "  width: 1px;\n",
       "}\n",
       "\n",
       "#sk-container-id-7 div.sk-dashed-wrapped {\n",
       "  border: 1px dashed var(--sklearn-color-line);\n",
       "  margin: 0 0.4em 0.5em 0.4em;\n",
       "  box-sizing: border-box;\n",
       "  padding-bottom: 0.4em;\n",
       "  background-color: var(--sklearn-color-background);\n",
       "}\n",
       "\n",
       "#sk-container-id-7 div.sk-container {\n",
       "  /* jupyter's `normalize.less` sets `[hidden] { display: none; }`\n",
       "     but bootstrap.min.css set `[hidden] { display: none !important; }`\n",
       "     so we also need the `!important` here to be able to override the\n",
       "     default hidden behavior on the sphinx rendered scikit-learn.org.\n",
       "     See: https://github.com/scikit-learn/scikit-learn/issues/21755 */\n",
       "  display: inline-block !important;\n",
       "  position: relative;\n",
       "}\n",
       "\n",
       "#sk-container-id-7 div.sk-text-repr-fallback {\n",
       "  display: none;\n",
       "}\n",
       "\n",
       "div.sk-parallel-item,\n",
       "div.sk-serial,\n",
       "div.sk-item {\n",
       "  /* draw centered vertical line to link estimators */\n",
       "  background-image: linear-gradient(var(--sklearn-color-text-on-default-background), var(--sklearn-color-text-on-default-background));\n",
       "  background-size: 2px 100%;\n",
       "  background-repeat: no-repeat;\n",
       "  background-position: center center;\n",
       "}\n",
       "\n",
       "/* Parallel-specific style estimator block */\n",
       "\n",
       "#sk-container-id-7 div.sk-parallel-item::after {\n",
       "  content: \"\";\n",
       "  width: 100%;\n",
       "  border-bottom: 2px solid var(--sklearn-color-text-on-default-background);\n",
       "  flex-grow: 1;\n",
       "}\n",
       "\n",
       "#sk-container-id-7 div.sk-parallel {\n",
       "  display: flex;\n",
       "  align-items: stretch;\n",
       "  justify-content: center;\n",
       "  background-color: var(--sklearn-color-background);\n",
       "  position: relative;\n",
       "}\n",
       "\n",
       "#sk-container-id-7 div.sk-parallel-item {\n",
       "  display: flex;\n",
       "  flex-direction: column;\n",
       "}\n",
       "\n",
       "#sk-container-id-7 div.sk-parallel-item:first-child::after {\n",
       "  align-self: flex-end;\n",
       "  width: 50%;\n",
       "}\n",
       "\n",
       "#sk-container-id-7 div.sk-parallel-item:last-child::after {\n",
       "  align-self: flex-start;\n",
       "  width: 50%;\n",
       "}\n",
       "\n",
       "#sk-container-id-7 div.sk-parallel-item:only-child::after {\n",
       "  width: 0;\n",
       "}\n",
       "\n",
       "/* Serial-specific style estimator block */\n",
       "\n",
       "#sk-container-id-7 div.sk-serial {\n",
       "  display: flex;\n",
       "  flex-direction: column;\n",
       "  align-items: center;\n",
       "  background-color: var(--sklearn-color-background);\n",
       "  padding-right: 1em;\n",
       "  padding-left: 1em;\n",
       "}\n",
       "\n",
       "\n",
       "/* Toggleable style: style used for estimator/Pipeline/ColumnTransformer box that is\n",
       "clickable and can be expanded/collapsed.\n",
       "- Pipeline and ColumnTransformer use this feature and define the default style\n",
       "- Estimators will overwrite some part of the style using the `sk-estimator` class\n",
       "*/\n",
       "\n",
       "/* Pipeline and ColumnTransformer style (default) */\n",
       "\n",
       "#sk-container-id-7 div.sk-toggleable {\n",
       "  /* Default theme specific background. It is overwritten whether we have a\n",
       "  specific estimator or a Pipeline/ColumnTransformer */\n",
       "  background-color: var(--sklearn-color-background);\n",
       "}\n",
       "\n",
       "/* Toggleable label */\n",
       "#sk-container-id-7 label.sk-toggleable__label {\n",
       "  cursor: pointer;\n",
       "  display: block;\n",
       "  width: 100%;\n",
       "  margin-bottom: 0;\n",
       "  padding: 0.5em;\n",
       "  box-sizing: border-box;\n",
       "  text-align: center;\n",
       "}\n",
       "\n",
       "#sk-container-id-7 label.sk-toggleable__label-arrow:before {\n",
       "  /* Arrow on the left of the label */\n",
       "  content: \"▸\";\n",
       "  float: left;\n",
       "  margin-right: 0.25em;\n",
       "  color: var(--sklearn-color-icon);\n",
       "}\n",
       "\n",
       "#sk-container-id-7 label.sk-toggleable__label-arrow:hover:before {\n",
       "  color: var(--sklearn-color-text);\n",
       "}\n",
       "\n",
       "/* Toggleable content - dropdown */\n",
       "\n",
       "#sk-container-id-7 div.sk-toggleable__content {\n",
       "  max-height: 0;\n",
       "  max-width: 0;\n",
       "  overflow: hidden;\n",
       "  text-align: left;\n",
       "  /* unfitted */\n",
       "  background-color: var(--sklearn-color-unfitted-level-0);\n",
       "}\n",
       "\n",
       "#sk-container-id-7 div.sk-toggleable__content.fitted {\n",
       "  /* fitted */\n",
       "  background-color: var(--sklearn-color-fitted-level-0);\n",
       "}\n",
       "\n",
       "#sk-container-id-7 div.sk-toggleable__content pre {\n",
       "  margin: 0.2em;\n",
       "  border-radius: 0.25em;\n",
       "  color: var(--sklearn-color-text);\n",
       "  /* unfitted */\n",
       "  background-color: var(--sklearn-color-unfitted-level-0);\n",
       "}\n",
       "\n",
       "#sk-container-id-7 div.sk-toggleable__content.fitted pre {\n",
       "  /* unfitted */\n",
       "  background-color: var(--sklearn-color-fitted-level-0);\n",
       "}\n",
       "\n",
       "#sk-container-id-7 input.sk-toggleable__control:checked~div.sk-toggleable__content {\n",
       "  /* Expand drop-down */\n",
       "  max-height: 200px;\n",
       "  max-width: 100%;\n",
       "  overflow: auto;\n",
       "}\n",
       "\n",
       "#sk-container-id-7 input.sk-toggleable__control:checked~label.sk-toggleable__label-arrow:before {\n",
       "  content: \"▾\";\n",
       "}\n",
       "\n",
       "/* Pipeline/ColumnTransformer-specific style */\n",
       "\n",
       "#sk-container-id-7 div.sk-label input.sk-toggleable__control:checked~label.sk-toggleable__label {\n",
       "  color: var(--sklearn-color-text);\n",
       "  background-color: var(--sklearn-color-unfitted-level-2);\n",
       "}\n",
       "\n",
       "#sk-container-id-7 div.sk-label.fitted input.sk-toggleable__control:checked~label.sk-toggleable__label {\n",
       "  background-color: var(--sklearn-color-fitted-level-2);\n",
       "}\n",
       "\n",
       "/* Estimator-specific style */\n",
       "\n",
       "/* Colorize estimator box */\n",
       "#sk-container-id-7 div.sk-estimator input.sk-toggleable__control:checked~label.sk-toggleable__label {\n",
       "  /* unfitted */\n",
       "  background-color: var(--sklearn-color-unfitted-level-2);\n",
       "}\n",
       "\n",
       "#sk-container-id-7 div.sk-estimator.fitted input.sk-toggleable__control:checked~label.sk-toggleable__label {\n",
       "  /* fitted */\n",
       "  background-color: var(--sklearn-color-fitted-level-2);\n",
       "}\n",
       "\n",
       "#sk-container-id-7 div.sk-label label.sk-toggleable__label,\n",
       "#sk-container-id-7 div.sk-label label {\n",
       "  /* The background is the default theme color */\n",
       "  color: var(--sklearn-color-text-on-default-background);\n",
       "}\n",
       "\n",
       "/* On hover, darken the color of the background */\n",
       "#sk-container-id-7 div.sk-label:hover label.sk-toggleable__label {\n",
       "  color: var(--sklearn-color-text);\n",
       "  background-color: var(--sklearn-color-unfitted-level-2);\n",
       "}\n",
       "\n",
       "/* Label box, darken color on hover, fitted */\n",
       "#sk-container-id-7 div.sk-label.fitted:hover label.sk-toggleable__label.fitted {\n",
       "  color: var(--sklearn-color-text);\n",
       "  background-color: var(--sklearn-color-fitted-level-2);\n",
       "}\n",
       "\n",
       "/* Estimator label */\n",
       "\n",
       "#sk-container-id-7 div.sk-label label {\n",
       "  font-family: monospace;\n",
       "  font-weight: bold;\n",
       "  display: inline-block;\n",
       "  line-height: 1.2em;\n",
       "}\n",
       "\n",
       "#sk-container-id-7 div.sk-label-container {\n",
       "  text-align: center;\n",
       "}\n",
       "\n",
       "/* Estimator-specific */\n",
       "#sk-container-id-7 div.sk-estimator {\n",
       "  font-family: monospace;\n",
       "  border: 1px dotted var(--sklearn-color-border-box);\n",
       "  border-radius: 0.25em;\n",
       "  box-sizing: border-box;\n",
       "  margin-bottom: 0.5em;\n",
       "  /* unfitted */\n",
       "  background-color: var(--sklearn-color-unfitted-level-0);\n",
       "}\n",
       "\n",
       "#sk-container-id-7 div.sk-estimator.fitted {\n",
       "  /* fitted */\n",
       "  background-color: var(--sklearn-color-fitted-level-0);\n",
       "}\n",
       "\n",
       "/* on hover */\n",
       "#sk-container-id-7 div.sk-estimator:hover {\n",
       "  /* unfitted */\n",
       "  background-color: var(--sklearn-color-unfitted-level-2);\n",
       "}\n",
       "\n",
       "#sk-container-id-7 div.sk-estimator.fitted:hover {\n",
       "  /* fitted */\n",
       "  background-color: var(--sklearn-color-fitted-level-2);\n",
       "}\n",
       "\n",
       "/* Specification for estimator info (e.g. \"i\" and \"?\") */\n",
       "\n",
       "/* Common style for \"i\" and \"?\" */\n",
       "\n",
       ".sk-estimator-doc-link,\n",
       "a:link.sk-estimator-doc-link,\n",
       "a:visited.sk-estimator-doc-link {\n",
       "  float: right;\n",
       "  font-size: smaller;\n",
       "  line-height: 1em;\n",
       "  font-family: monospace;\n",
       "  background-color: var(--sklearn-color-background);\n",
       "  border-radius: 1em;\n",
       "  height: 1em;\n",
       "  width: 1em;\n",
       "  text-decoration: none !important;\n",
       "  margin-left: 1ex;\n",
       "  /* unfitted */\n",
       "  border: var(--sklearn-color-unfitted-level-1) 1pt solid;\n",
       "  color: var(--sklearn-color-unfitted-level-1);\n",
       "}\n",
       "\n",
       ".sk-estimator-doc-link.fitted,\n",
       "a:link.sk-estimator-doc-link.fitted,\n",
       "a:visited.sk-estimator-doc-link.fitted {\n",
       "  /* fitted */\n",
       "  border: var(--sklearn-color-fitted-level-1) 1pt solid;\n",
       "  color: var(--sklearn-color-fitted-level-1);\n",
       "}\n",
       "\n",
       "/* On hover */\n",
       "div.sk-estimator:hover .sk-estimator-doc-link:hover,\n",
       ".sk-estimator-doc-link:hover,\n",
       "div.sk-label-container:hover .sk-estimator-doc-link:hover,\n",
       ".sk-estimator-doc-link:hover {\n",
       "  /* unfitted */\n",
       "  background-color: var(--sklearn-color-unfitted-level-3);\n",
       "  color: var(--sklearn-color-background);\n",
       "  text-decoration: none;\n",
       "}\n",
       "\n",
       "div.sk-estimator.fitted:hover .sk-estimator-doc-link.fitted:hover,\n",
       ".sk-estimator-doc-link.fitted:hover,\n",
       "div.sk-label-container:hover .sk-estimator-doc-link.fitted:hover,\n",
       ".sk-estimator-doc-link.fitted:hover {\n",
       "  /* fitted */\n",
       "  background-color: var(--sklearn-color-fitted-level-3);\n",
       "  color: var(--sklearn-color-background);\n",
       "  text-decoration: none;\n",
       "}\n",
       "\n",
       "/* Span, style for the box shown on hovering the info icon */\n",
       ".sk-estimator-doc-link span {\n",
       "  display: none;\n",
       "  z-index: 9999;\n",
       "  position: relative;\n",
       "  font-weight: normal;\n",
       "  right: .2ex;\n",
       "  padding: .5ex;\n",
       "  margin: .5ex;\n",
       "  width: min-content;\n",
       "  min-width: 20ex;\n",
       "  max-width: 50ex;\n",
       "  color: var(--sklearn-color-text);\n",
       "  box-shadow: 2pt 2pt 4pt #999;\n",
       "  /* unfitted */\n",
       "  background: var(--sklearn-color-unfitted-level-0);\n",
       "  border: .5pt solid var(--sklearn-color-unfitted-level-3);\n",
       "}\n",
       "\n",
       ".sk-estimator-doc-link.fitted span {\n",
       "  /* fitted */\n",
       "  background: var(--sklearn-color-fitted-level-0);\n",
       "  border: var(--sklearn-color-fitted-level-3);\n",
       "}\n",
       "\n",
       ".sk-estimator-doc-link:hover span {\n",
       "  display: block;\n",
       "}\n",
       "\n",
       "/* \"?\"-specific style due to the `<a>` HTML tag */\n",
       "\n",
       "#sk-container-id-7 a.estimator_doc_link {\n",
       "  float: right;\n",
       "  font-size: 1rem;\n",
       "  line-height: 1em;\n",
       "  font-family: monospace;\n",
       "  background-color: var(--sklearn-color-background);\n",
       "  border-radius: 1rem;\n",
       "  height: 1rem;\n",
       "  width: 1rem;\n",
       "  text-decoration: none;\n",
       "  /* unfitted */\n",
       "  color: var(--sklearn-color-unfitted-level-1);\n",
       "  border: var(--sklearn-color-unfitted-level-1) 1pt solid;\n",
       "}\n",
       "\n",
       "#sk-container-id-7 a.estimator_doc_link.fitted {\n",
       "  /* fitted */\n",
       "  border: var(--sklearn-color-fitted-level-1) 1pt solid;\n",
       "  color: var(--sklearn-color-fitted-level-1);\n",
       "}\n",
       "\n",
       "/* On hover */\n",
       "#sk-container-id-7 a.estimator_doc_link:hover {\n",
       "  /* unfitted */\n",
       "  background-color: var(--sklearn-color-unfitted-level-3);\n",
       "  color: var(--sklearn-color-background);\n",
       "  text-decoration: none;\n",
       "}\n",
       "\n",
       "#sk-container-id-7 a.estimator_doc_link.fitted:hover {\n",
       "  /* fitted */\n",
       "  background-color: var(--sklearn-color-fitted-level-3);\n",
       "}\n",
       "</style><div id=\"sk-container-id-7\" class=\"sk-top-container\"><div class=\"sk-text-repr-fallback\"><pre>Pipeline(steps=[(&#x27;scaler&#x27;, MinMaxScaler())])</pre><b>In a Jupyter environment, please rerun this cell to show the HTML representation or trust the notebook. <br />On GitHub, the HTML representation is unable to render, please try loading this page with nbviewer.org.</b></div><div class=\"sk-container\" hidden><div class=\"sk-item sk-dashed-wrapped\"><div class=\"sk-label-container\"><div class=\"sk-label fitted sk-toggleable\"><input class=\"sk-toggleable__control sk-hidden--visually\" id=\"sk-estimator-id-13\" type=\"checkbox\" ><label for=\"sk-estimator-id-13\" class=\"sk-toggleable__label fitted sk-toggleable__label-arrow fitted\">&nbsp;&nbsp;Pipeline<a class=\"sk-estimator-doc-link fitted\" rel=\"noreferrer\" target=\"_blank\" href=\"https://scikit-learn.org/1.5/modules/generated/sklearn.pipeline.Pipeline.html\">?<span>Documentation for Pipeline</span></a><span class=\"sk-estimator-doc-link fitted\">i<span>Fitted</span></span></label><div class=\"sk-toggleable__content fitted\"><pre>Pipeline(steps=[(&#x27;scaler&#x27;, MinMaxScaler())])</pre></div> </div></div><div class=\"sk-serial\"><div class=\"sk-item\"><div class=\"sk-estimator fitted sk-toggleable\"><input class=\"sk-toggleable__control sk-hidden--visually\" id=\"sk-estimator-id-14\" type=\"checkbox\" ><label for=\"sk-estimator-id-14\" class=\"sk-toggleable__label fitted sk-toggleable__label-arrow fitted\">&nbsp;MinMaxScaler<a class=\"sk-estimator-doc-link fitted\" rel=\"noreferrer\" target=\"_blank\" href=\"https://scikit-learn.org/1.5/modules/generated/sklearn.preprocessing.MinMaxScaler.html\">?<span>Documentation for MinMaxScaler</span></a></label><div class=\"sk-toggleable__content fitted\"><pre>MinMaxScaler()</pre></div> </div></div></div></div></div></div>"
      ],
      "text/plain": [
       "Pipeline(steps=[('scaler', MinMaxScaler())])"
      ]
     },
     "execution_count": 115,
     "metadata": {},
     "output_type": "execute_result"
    }
   ],
   "source": [
    "# configure our pipeline\n",
    "pipeline = Pipeline([('scaler', MinMaxScaler())])\n",
    "\n",
    "pipeline.fit(train_full)"
   ]
  },
  {
   "cell_type": "code",
   "execution_count": 15,
   "id": "53988466",
   "metadata": {},
   "outputs": [],
   "source": [
    "# Assuming you have already fit your pipeline on data\n",
    "# pipeline.fit(X_train, y_train)"
   ]
  },
  {
   "cell_type": "code",
   "execution_count": 11,
   "id": "c6846c37",
   "metadata": {},
   "outputs": [
    {
     "data": {
      "text/plain": [
       "['April_pipeline.pkl']"
      ]
     },
     "execution_count": 11,
     "metadata": {},
     "output_type": "execute_result"
    }
   ],
   "source": [
    "# Save the pipeline to a file\n",
    "joblib.dump(pipeline, 'April_pipeline.pkl')"
   ]
  },
  {
   "cell_type": "code",
   "execution_count": 17,
   "id": "d46919bf",
   "metadata": {},
   "outputs": [],
   "source": [
    "# Now you can use this pipeline to transform new data or make predictions\n",
    "# Load the pipeline from file\n",
    "#pipeline = joblib.load('pipeline.pkl')"
   ]
  },
  {
   "cell_type": "code",
   "execution_count": 116,
   "id": "8571d202",
   "metadata": {},
   "outputs": [],
   "source": [
    "# transform the training and validation data with these parameters\n",
    "X_train_transformed = pipeline.transform(train_full)\n",
    "X_validate_transformed = pipeline.transform(test_full)"
   ]
  },
  {
   "cell_type": "code",
   "execution_count": 89,
   "id": "b45733c7",
   "metadata": {},
   "outputs": [],
   "source": [
    "# data dimensions // hyperparameters \n",
    "input_dim = X_train_transformed.shape[1]\n",
    "BATCH_SIZE = 256\n",
    "EPOCHS = 100"
   ]
  },
  {
   "cell_type": "code",
   "execution_count": 69,
   "id": "1de035a5",
   "metadata": {},
   "outputs": [
    {
     "name": "stdout",
     "output_type": "stream",
     "text": [
      "14\n"
     ]
    }
   ],
   "source": [
    "print(input_dim)"
   ]
  },
  {
   "cell_type": "code",
   "execution_count": 70,
   "id": "9919590d",
   "metadata": {},
   "outputs": [],
   "source": [
    "class CustomDataset(Dataset):\n",
    "    def __init__(self,dataset):\n",
    "        self.dataset = torch.tensor(dataset, dtype=torch.float32)\n",
    "        \n",
    "    def __len__(self):\n",
    "        return len(self.dataset)\n",
    "    \n",
    "    def __getitem__(self, idx):\n",
    "        return self.dataset[idx]"
   ]
  },
  {
   "cell_type": "code",
   "execution_count": 117,
   "id": "9b7b977f",
   "metadata": {},
   "outputs": [],
   "source": [
    "train_dataset = CustomDataset(X_train_transformed)\n",
    "val_dataset = CustomDataset(X_validate_transformed)"
   ]
  },
  {
   "cell_type": "code",
   "execution_count": 118,
   "id": "ec7793c6",
   "metadata": {},
   "outputs": [],
   "source": [
    "train_loader = DataLoader(train_dataset, BATCH_SIZE, shuffle=True)\n",
    "val_loader = DataLoader(val_dataset, BATCH_SIZE, shuffle=False)"
   ]
  },
  {
   "cell_type": "code",
   "execution_count": 5,
   "id": "7b53a5c1",
   "metadata": {},
   "outputs": [],
   "source": [
    "class AutoEncoder(nn.Module):\n",
    "    def __init__(self,input_dim,latent_dim=2):\n",
    "        super().__init__()\n",
    "        # Defining the Encoder\n",
    "        self.encoder=nn.Sequential(\n",
    "            # Input_dim -> 16 -> 8 -> 4 -> 2\n",
    "            nn.Linear(input_dim, 16),\n",
    "            nn.ELU(),\n",
    "            nn.Linear(16, 8),\n",
    "            nn.ELU(),\n",
    "            nn.Linear(8, 4),\n",
    "            nn.ELU(),\n",
    "            # nn.Linear(4, 2),\n",
    "            # nn.ELU()\n",
    "        )\n",
    "\n",
    "        \n",
    "        # Defining the Decoder\n",
    "        self.decoder = nn.Sequential(\n",
    "            # 2 -> 4 -> 8 -> 16 -> Input_dim\n",
    "            # nn.Linear(2, 4),\n",
    "            # nn.ELU(),\n",
    "            nn.Linear(4, 8),\n",
    "            nn.ELU(),\n",
    "            nn.Linear(8, 16),\n",
    "            nn.ELU(),\n",
    "            nn.Linear(16, input_dim),\n",
    "            nn.ELU(),\n",
    "        )\n",
    "        \n",
    "    def forward(self, x):\n",
    "        x = self.encoder(x)\n",
    "        x = self.decoder(x)\n",
    "        return x"
   ]
  },
  {
   "cell_type": "code",
   "execution_count": null,
   "id": "9eea4510",
   "metadata": {},
   "outputs": [],
   "source": [
    "# class Var_AutoEncoder(nn.Module):\n",
    "#     def __init__(self,input_dim,latent_dim=4):\n",
    "#         super().__init__()\n",
    "#         # Defining the Encoder\n",
    "#         self.encoder=nn.Sequential(\n",
    "#             # Input_dim -> 16 -> 8 -> 4 -> 2\n",
    "#             nn.Linear(input_dim, 16),\n",
    "#             nn.ELU(),\n",
    "#             nn.Linear(16, 8),\n",
    "#             nn.ELU(),\n",
    "#             nn.Linear(8, 4),\n",
    "#             nn.ELU(),\n",
    "#             # nn.Linear(4, 2),\n",
    "#             # nn.ELU()\n",
    "#         )\n",
    "        \n",
    "#         self.fc_mu = nn.Linear(4, latent_dim)\n",
    "#         self.fc_logvar = nn.Linear(4, latent_dim)\n",
    "\n",
    "        \n",
    "#         # Defining the Decoder\n",
    "#         self.decoder = nn.Sequential(\n",
    "#             # 2 -> 4 -> 8 -> 16 -> Input_dim\n",
    "#             # nn.Linear(2, 4),\n",
    "#             # nn.ELU(),\n",
    "#             nn.Linear(4, 8),\n",
    "#             nn.ELU(),\n",
    "#             nn.Linear(8, 16),\n",
    "#             nn.ELU(),\n",
    "#             nn.Linear(16, input_dim),\n",
    "#             nn.ELU(),\n",
    "#         )\n",
    "    \n",
    "#     def reparameterize(self, mu, logvar):\n",
    "#         std = torch.exp(0.5 * logvar)\n",
    "#         eps = torch.randn_like(std)\n",
    "#         return mu + eps * std\n",
    "\n",
    "#     def forward(self, x):\n",
    "#         h = self.encoder(x)\n",
    "#         mu = self.fc_mu(h)\n",
    "#         logvar = self.fc_logvar(h)\n",
    "#         z = self.reparameterize(mu, logvar)\n",
    "#         reconstructed = self.decoder(z)\n",
    "#         return reconstructed, mu, logvar"
   ]
  },
  {
   "cell_type": "code",
   "execution_count": 6,
   "id": "4f486a7c",
   "metadata": {},
   "outputs": [
    {
     "ename": "NameError",
     "evalue": "name 'input_dim' is not defined",
     "output_type": "error",
     "traceback": [
      "\u001b[0;31m---------------------------------------------------------------------------\u001b[0m",
      "\u001b[0;31mNameError\u001b[0m                                 Traceback (most recent call last)",
      "Cell \u001b[0;32mIn[6], line 1\u001b[0m\n\u001b[0;32m----> 1\u001b[0m autoencoder\u001b[38;5;241m=\u001b[39m AutoEncoder(input_dim\u001b[38;5;241m=\u001b[39minput_dim)\n",
      "\u001b[0;31mNameError\u001b[0m: name 'input_dim' is not defined"
     ]
    }
   ],
   "source": [
    "autoencoder= AutoEncoder(input_dim=input_dim)"
   ]
  },
  {
   "cell_type": "code",
   "execution_count": 172,
   "id": "ee8f2898",
   "metadata": {},
   "outputs": [],
   "source": [
    "# Define loss function and optimizer\n",
    "criterion = nn.MSELoss()\n",
    "optimizer = optim.Adam(autoencoder.parameters())"
   ]
  },
  {
   "cell_type": "code",
   "execution_count": 173,
   "id": "1c6336b9",
   "metadata": {},
   "outputs": [
    {
     "name": "stdout",
     "output_type": "stream",
     "text": [
      "Var_AutoEncoder(\n",
      "  (encoder): Sequential(\n",
      "    (0): Linear(in_features=14, out_features=16, bias=True)\n",
      "    (1): ELU(alpha=1.0)\n",
      "    (2): Linear(in_features=16, out_features=8, bias=True)\n",
      "    (3): ELU(alpha=1.0)\n",
      "    (4): Linear(in_features=8, out_features=4, bias=True)\n",
      "    (5): ELU(alpha=1.0)\n",
      "  )\n",
      "  (fc_mu): Linear(in_features=4, out_features=2, bias=True)\n",
      "  (fc_logvar): Linear(in_features=4, out_features=2, bias=True)\n",
      "  (decoder): Sequential(\n",
      "    (0): Linear(in_features=4, out_features=8, bias=True)\n",
      "    (1): ELU(alpha=1.0)\n",
      "    (2): Linear(in_features=8, out_features=16, bias=True)\n",
      "    (3): ELU(alpha=1.0)\n",
      "    (4): Linear(in_features=16, out_features=14, bias=True)\n",
      "    (5): ELU(alpha=1.0)\n",
      "  )\n",
      ")\n"
     ]
    }
   ],
   "source": [
    "# Print model summary\n",
    "print(autoencoder)\n",
    "# print(f\"Total parameters: {sum(p.numel() for p in autoencoder.parameters())}\")"
   ]
  },
  {
   "cell_type": "code",
   "execution_count": 174,
   "id": "190e8067",
   "metadata": {},
   "outputs": [
    {
     "name": "stdout",
     "output_type": "stream",
     "text": [
      "Model created with 834 parameters\n",
      "Training autoencoder for 100 epochs...\n",
      "--------------------------------------------------\n",
      "Epoch   1/100 | Train: 0.002456 | Val: 0.001803 | Time: 65.4s | Patience: 0/15\n",
      "Epoch   2/100 | Train: 0.002060 | Val: 0.001768 | Time: 59.9s | Patience: 0/15\n",
      "Epoch   3/100 | Train: 0.001997 | Val: 0.001706 | Time: 59.5s | Patience: 0/15\n",
      "Epoch   4/100 | Train: 0.001960 | Val: 0.001709 | Time: 76.7s | Patience: 1/15\n",
      "Epoch   5/100 | Train: 0.001935 | Val: 0.001696 | Time: 84.4s | Patience: 0/15\n",
      "Epoch   6/100 | Train: 0.001917 | Val: 0.001768 | Time: 160.7s | Patience: 1/15\n",
      "Epoch   7/100 | Train: 0.001890 | Val: 0.001688 | Time: 77.2s | Patience: 0/15\n",
      "Epoch   8/100 | Train: 0.001867 | Val: 0.001703 | Time: 69.8s | Patience: 1/15\n",
      "Epoch   9/100 | Train: 0.001846 | Val: 0.001697 | Time: 69.8s | Patience: 2/15\n",
      "Epoch  10/100 | Train: 0.001825 | Val: 0.001693 | Time: 71.5s | Patience: 3/15\n",
      "Epoch  11/100 | Train: 0.001808 | Val: 0.001729 | Time: 75.5s | Patience: 4/15\n",
      "Epoch  12/100 | Train: 0.001795 | Val: 0.001662 | Time: 75.5s | Patience: 0/15\n",
      "Epoch  13/100 | Train: 0.001787 | Val: 0.001681 | Time: 81.3s | Patience: 1/15\n",
      "Epoch  14/100 | Train: 0.001781 | Val: 0.001654 | Time: 81.7s | Patience: 0/15\n",
      "Epoch  15/100 | Train: 0.001775 | Val: 0.001747 | Time: 92.4s | Patience: 1/15\n"
     ]
    },
    {
     "ename": "KeyboardInterrupt",
     "evalue": "",
     "output_type": "error",
     "traceback": [
      "\u001b[0;31m---------------------------------------------------------------------------\u001b[0m",
      "\u001b[0;31mKeyboardInterrupt\u001b[0m                         Traceback (most recent call last)",
      "Cell \u001b[0;32mIn[174], line 95\u001b[0m\n\u001b[1;32m     93\u001b[0m \u001b[38;5;66;03m# Run training\u001b[39;00m\n\u001b[1;32m     94\u001b[0m \u001b[38;5;28;01mif\u001b[39;00m \u001b[38;5;18m__name__\u001b[39m \u001b[38;5;241m==\u001b[39m \u001b[38;5;124m\"\u001b[39m\u001b[38;5;124m__main__\u001b[39m\u001b[38;5;124m\"\u001b[39m:\n\u001b[0;32m---> 95\u001b[0m     trained_model, train_losses, val_losses \u001b[38;5;241m=\u001b[39m run_training()\n",
      "Cell \u001b[0;32mIn[174], line 83\u001b[0m, in \u001b[0;36mrun_training\u001b[0;34m()\u001b[0m\n\u001b[1;32m     80\u001b[0m \u001b[38;5;28mprint\u001b[39m(\u001b[38;5;124mf\u001b[39m\u001b[38;5;124m\"\u001b[39m\u001b[38;5;124mModel created with \u001b[39m\u001b[38;5;132;01m{\u001b[39;00m\u001b[38;5;28msum\u001b[39m(p\u001b[38;5;241m.\u001b[39mnumel()\u001b[38;5;250m \u001b[39m\u001b[38;5;28;01mfor\u001b[39;00m\u001b[38;5;250m \u001b[39mp\u001b[38;5;250m \u001b[39m\u001b[38;5;129;01min\u001b[39;00m\u001b[38;5;250m \u001b[39mautoencoder\u001b[38;5;241m.\u001b[39mparameters())\u001b[38;5;132;01m}\u001b[39;00m\u001b[38;5;124m parameters\u001b[39m\u001b[38;5;124m\"\u001b[39m)\n\u001b[1;32m     82\u001b[0m \u001b[38;5;66;03m# Train\u001b[39;00m\n\u001b[0;32m---> 83\u001b[0m trained_model, train_history, val_history \u001b[38;5;241m=\u001b[39m train_autoencoder(\n\u001b[1;32m     84\u001b[0m     model\u001b[38;5;241m=\u001b[39mautoencoder,\n\u001b[1;32m     85\u001b[0m     train_loader\u001b[38;5;241m=\u001b[39mtrain_loader,\n\u001b[1;32m     86\u001b[0m     val_loader\u001b[38;5;241m=\u001b[39mval_loader,\n\u001b[1;32m     87\u001b[0m     epochs\u001b[38;5;241m=\u001b[39mEPOCHS,\n\u001b[1;32m     88\u001b[0m     lr\u001b[38;5;241m=\u001b[39m\u001b[38;5;241m0.001\u001b[39m\n\u001b[1;32m     89\u001b[0m ) \n\u001b[1;32m     91\u001b[0m \u001b[38;5;28;01mreturn\u001b[39;00m trained_model, train_history, val_history\n",
      "Cell \u001b[0;32mIn[174], line 43\u001b[0m, in \u001b[0;36mtrain_autoencoder\u001b[0;34m(model, train_loader, val_loader, epochs, lr)\u001b[0m\n\u001b[1;32m     41\u001b[0m val_loss \u001b[38;5;241m=\u001b[39m \u001b[38;5;241m0.0\u001b[39m\n\u001b[1;32m     42\u001b[0m \u001b[38;5;28;01mwith\u001b[39;00m torch\u001b[38;5;241m.\u001b[39mno_grad():\n\u001b[0;32m---> 43\u001b[0m     \u001b[38;5;28;01mfor\u001b[39;00m batch_data \u001b[38;5;129;01min\u001b[39;00m val_loader:\n\u001b[1;32m     44\u001b[0m         batch_data \u001b[38;5;241m=\u001b[39m batch_data\u001b[38;5;241m.\u001b[39mto(device)\n\u001b[1;32m     45\u001b[0m         reconstructed \u001b[38;5;241m=\u001b[39m model(batch_data)\n",
      "File \u001b[0;32m/opt/anaconda3/lib/python3.12/site-packages/torch/utils/data/dataloader.py:729\u001b[0m, in \u001b[0;36m_BaseDataLoaderIter.__next__\u001b[0;34m(self)\u001b[0m\n\u001b[1;32m    728\u001b[0m \u001b[38;5;28;01mdef\u001b[39;00m \u001b[38;5;21m__next__\u001b[39m(\u001b[38;5;28mself\u001b[39m) \u001b[38;5;241m-\u001b[39m\u001b[38;5;241m>\u001b[39m Any:\n\u001b[0;32m--> 729\u001b[0m     \u001b[38;5;28;01mwith\u001b[39;00m torch\u001b[38;5;241m.\u001b[39mautograd\u001b[38;5;241m.\u001b[39mprofiler\u001b[38;5;241m.\u001b[39mrecord_function(\u001b[38;5;28mself\u001b[39m\u001b[38;5;241m.\u001b[39m_profile_name):\n\u001b[1;32m    730\u001b[0m         \u001b[38;5;28;01mif\u001b[39;00m \u001b[38;5;28mself\u001b[39m\u001b[38;5;241m.\u001b[39m_sampler_iter \u001b[38;5;129;01mis\u001b[39;00m \u001b[38;5;28;01mNone\u001b[39;00m:\n\u001b[1;32m    731\u001b[0m             \u001b[38;5;66;03m# TODO(https://github.com/pytorch/pytorch/issues/76750)\u001b[39;00m\n\u001b[1;32m    732\u001b[0m             \u001b[38;5;28mself\u001b[39m\u001b[38;5;241m.\u001b[39m_reset()  \u001b[38;5;66;03m# type: ignore[call-arg]\u001b[39;00m\n",
      "File \u001b[0;32m/opt/anaconda3/lib/python3.12/site-packages/torch/autograd/profiler.py:776\u001b[0m, in \u001b[0;36mrecord_function.__exit__\u001b[0;34m(self, exc_type, exc_value, traceback)\u001b[0m\n\u001b[1;32m    771\u001b[0m     \u001b[38;5;28mself\u001b[39m\u001b[38;5;241m.\u001b[39mrecord \u001b[38;5;241m=\u001b[39m torch\u001b[38;5;241m.\u001b[39mops\u001b[38;5;241m.\u001b[39mprofiler\u001b[38;5;241m.\u001b[39m_record_function_enter_new(\n\u001b[1;32m    772\u001b[0m         \u001b[38;5;28mself\u001b[39m\u001b[38;5;241m.\u001b[39mname, \u001b[38;5;28mself\u001b[39m\u001b[38;5;241m.\u001b[39margs\n\u001b[1;32m    773\u001b[0m     )\n\u001b[1;32m    774\u001b[0m     \u001b[38;5;28;01mreturn\u001b[39;00m \u001b[38;5;28mself\u001b[39m\n\u001b[0;32m--> 776\u001b[0m \u001b[38;5;28;01mdef\u001b[39;00m \u001b[38;5;21m__exit__\u001b[39m(\u001b[38;5;28mself\u001b[39m, exc_type: Any, exc_value: Any, traceback: Any):\n\u001b[1;32m    777\u001b[0m     \u001b[38;5;28;01mif\u001b[39;00m \u001b[38;5;129;01mnot\u001b[39;00m \u001b[38;5;28mself\u001b[39m\u001b[38;5;241m.\u001b[39mrun_callbacks_on_exit:\n\u001b[1;32m    778\u001b[0m         \u001b[38;5;28;01mreturn\u001b[39;00m\n",
      "\u001b[0;31mKeyboardInterrupt\u001b[0m: "
     ]
    }
   ],
   "source": [
    "def train_autoencoder(model, train_loader, val_loader, epochs=100, lr=0.001):\n",
    "    \n",
    "    # Setup\n",
    "    device = torch.device('cpu')\n",
    "    model.to(device)\n",
    "    criterion = nn.MSELoss()\n",
    "    optimizer = optim.Adam(model.parameters(), lr=lr)\n",
    "    \n",
    "    # Training trackers\n",
    "    train_losses = []\n",
    "    val_losses = []\n",
    "    best_val_loss = float('inf')\n",
    "    patience = 15\n",
    "    patience_counter = 0\n",
    "    \n",
    "    print(f\"Training autoencoder for {epochs} epochs...\")\n",
    "    print(\"-\" * 50)\n",
    "    \n",
    "    for epoch in range(epochs):\n",
    "        start_time = time.time()\n",
    "        \n",
    "        # Training\n",
    "        model.train()\n",
    "        train_loss = 0.0\n",
    "        for batch_data in train_loader:\n",
    "            batch_data = batch_data.to(device)\n",
    "            \n",
    "            optimizer.zero_grad()\n",
    "            reconstructed = model(batch_data)\n",
    "            loss = criterion(reconstructed, batch_data)\n",
    "            loss.backward()\n",
    "            optimizer.step()\n",
    "            \n",
    "            train_loss += loss.item()\n",
    "        \n",
    "        avg_train_loss = train_loss / len(train_loader)\n",
    "        train_losses.append(avg_train_loss)\n",
    "        \n",
    "        # Validation\n",
    "        model.eval()\n",
    "        val_loss = 0.0\n",
    "        with torch.no_grad():\n",
    "            for batch_data in val_loader:\n",
    "                batch_data = batch_data.to(device)\n",
    "                reconstructed = model(batch_data)\n",
    "                loss = criterion(reconstructed, batch_data)\n",
    "                val_loss += loss.item()\n",
    "        \n",
    "        avg_val_loss = val_loss / len(val_loader)\n",
    "        val_losses.append(avg_val_loss)\n",
    "        \n",
    "        # Early stopping\n",
    "        if avg_val_loss < best_val_loss:\n",
    "            best_val_loss = avg_val_loss\n",
    "            patience_counter = 0\n",
    "            best_model = model.state_dict().copy()\n",
    "        else:\n",
    "            patience_counter += 1\n",
    "        \n",
    "        # Print progress\n",
    "        epoch_time = time.time() - start_time\n",
    "        print(f\"Epoch {epoch+1:3d}/{epochs} | Train: {avg_train_loss:.6f} | \"\n",
    "              f\"Val: {avg_val_loss:.6f} | Time: {epoch_time:.1f}s | \"\n",
    "              f\"Patience: {patience_counter}/{patience}\")\n",
    "        \n",
    "        # Stop if patience exceeded\n",
    "        if patience_counter >= patience:\n",
    "            print(f\"\\nEarly stopping at epoch {epoch+1}\")\n",
    "            print(f\"Best validation loss: {best_val_loss:.6f}\")\n",
    "            model.load_state_dict(best_model)\n",
    "            break\n",
    "    \n",
    "    print(\"Training completed!\")\n",
    "    return model, train_losses, val_losses\n",
    "\n",
    "# Usage\n",
    "def run_training():\n",
    "    # Initialize model\n",
    "    autoencoder = AutoEncoder(input_dim=input_dim)\n",
    "    print(f\"Model created with {sum(p.numel() for p in autoencoder.parameters())} parameters\")\n",
    "    \n",
    "    # Train\n",
    "    trained_model, train_history, val_history = train_autoencoder(\n",
    "        model=autoencoder,\n",
    "        train_loader=train_loader,\n",
    "        val_loader=val_loader,\n",
    "        epochs=EPOCHS,\n",
    "        lr=0.001\n",
    "    ) \n",
    "    \n",
    "    return trained_model, train_history, val_history\n",
    "\n",
    "# Run training\n",
    "if __name__ == \"__main__\":\n",
    "    trained_model, train_losses, val_losses = run_training()"
   ]
  },
  {
   "cell_type": "code",
   "execution_count": null,
   "id": "c982dabd",
   "metadata": {},
   "outputs": [],
   "source": [
    "# def vae_loss_function(reconstructed, original, mu, logvar, beta=1.0):\n",
    "#     \"\"\"\n",
    "#     VAE Loss = MSE + beta * KL Divergence\n",
    "#     \"\"\"\n",
    "#     mse_loss = nn.functional.mse_loss(reconstructed, original, reduction='sum')\n",
    "#     kl_div = -0.5 * torch.sum(1 + logvar - mu.pow(2) - logvar.exp())\n",
    "#     return mse_loss + beta * kl_div"
   ]
  },
  {
   "cell_type": "code",
   "execution_count": null,
   "id": "c04e7987",
   "metadata": {},
   "outputs": [
    {
     "name": "stdout",
     "output_type": "stream",
     "text": [
      "Model created with 874 parameters\n",
      "Training VAE for 100 epochs...\n",
      "--------------------------------------------------\n",
      "Epoch   1/100 | Train: 57.551149 | Val: 56.234804 | Time: 78.7s | Patience: 0/15\n",
      "Epoch   2/100 | Train: 57.271176 | Val: 56.605083 | Time: 110.1s | Patience: 1/15\n",
      "Epoch   3/100 | Train: 57.264515 | Val: 56.668844 | Time: 82.6s | Patience: 2/15\n",
      "Epoch   4/100 | Train: 57.261452 | Val: 56.326011 | Time: 96.4s | Patience: 3/15\n",
      "Epoch   5/100 | Train: 57.261441 | Val: 56.050146 | Time: 98.7s | Patience: 0/15\n",
      "Epoch   6/100 | Train: 57.261462 | Val: 56.170652 | Time: 94.3s | Patience: 1/15\n",
      "Epoch   7/100 | Train: 57.261451 | Val: 56.466073 | Time: 100.0s | Patience: 2/15\n",
      "Epoch   8/100 | Train: 57.261485 | Val: 56.090403 | Time: 92.4s | Patience: 3/15\n",
      "Epoch   9/100 | Train: 57.261460 | Val: 56.495337 | Time: 90.8s | Patience: 4/15\n",
      "Epoch  10/100 | Train: 57.261546 | Val: 56.517905 | Time: 99.6s | Patience: 5/15\n",
      "Epoch  11/100 | Train: 57.261530 | Val: 55.849523 | Time: 100.8s | Patience: 0/15\n",
      "Epoch  12/100 | Train: 57.261551 | Val: 56.004362 | Time: 92.6s | Patience: 1/15\n",
      "Epoch  13/100 | Train: 57.261598 | Val: 56.226353 | Time: 93.3s | Patience: 2/15\n",
      "Epoch  14/100 | Train: 57.261483 | Val: 56.089069 | Time: 88.6s | Patience: 3/15\n",
      "Epoch  15/100 | Train: 57.261446 | Val: 56.770068 | Time: 89.5s | Patience: 4/15\n",
      "Epoch  16/100 | Train: 57.261506 | Val: 56.469401 | Time: 98.6s | Patience: 5/15\n",
      "Epoch  17/100 | Train: 57.261431 | Val: 56.641758 | Time: 90.0s | Patience: 6/15\n",
      "Epoch  18/100 | Train: 57.261322 | Val: 56.579436 | Time: 108.6s | Patience: 7/15\n",
      "Epoch  19/100 | Train: 57.261389 | Val: 55.913606 | Time: 98.2s | Patience: 8/15\n",
      "Epoch  20/100 | Train: 57.261530 | Val: 56.765177 | Time: 110.5s | Patience: 9/15\n",
      "Epoch  21/100 | Train: 57.261516 | Val: 56.564985 | Time: 94.5s | Patience: 10/15\n",
      "Epoch  22/100 | Train: 57.261617 | Val: 56.273154 | Time: 126.8s | Patience: 11/15\n",
      "Epoch  23/100 | Train: 57.261423 | Val: 56.085829 | Time: 101.3s | Patience: 12/15\n",
      "Epoch  24/100 | Train: 57.261691 | Val: 56.695300 | Time: 148.3s | Patience: 13/15\n",
      "Epoch  25/100 | Train: 57.261406 | Val: 55.427138 | Time: 100.8s | Patience: 0/15\n",
      "Epoch  26/100 | Train: 57.261712 | Val: 56.471215 | Time: 114.4s | Patience: 1/15\n",
      "Epoch  27/100 | Train: 57.261536 | Val: 55.608521 | Time: 101.1s | Patience: 2/15\n",
      "Epoch  28/100 | Train: 57.261484 | Val: 56.971802 | Time: 100.6s | Patience: 3/15\n",
      "Epoch  29/100 | Train: 57.261452 | Val: 56.216388 | Time: 91.3s | Patience: 4/15\n",
      "Epoch  30/100 | Train: 57.261419 | Val: 56.299091 | Time: 107.3s | Patience: 5/15\n",
      "Epoch  31/100 | Train: 57.261295 | Val: 56.080018 | Time: 121.8s | Patience: 6/15\n",
      "Epoch  32/100 | Train: 57.261604 | Val: 56.314120 | Time: 97.1s | Patience: 7/15\n",
      "Epoch  33/100 | Train: 57.261453 | Val: 55.658051 | Time: 100.5s | Patience: 8/15\n",
      "Epoch  34/100 | Train: 57.261591 | Val: 56.705284 | Time: 94.0s | Patience: 9/15\n",
      "Epoch  35/100 | Train: 57.261551 | Val: 56.597837 | Time: 95.0s | Patience: 10/15\n",
      "Epoch  36/100 | Train: 57.261601 | Val: 56.605427 | Time: 95.5s | Patience: 11/15\n",
      "Epoch  37/100 | Train: 57.261475 | Val: 56.293848 | Time: 98.1s | Patience: 12/15\n",
      "Epoch  38/100 | Train: 57.261441 | Val: 56.427643 | Time: 91.6s | Patience: 13/15\n",
      "Epoch  39/100 | Train: 57.261655 | Val: 56.809997 | Time: 88.4s | Patience: 14/15\n",
      "Epoch  40/100 | Train: 57.261582 | Val: 55.880739 | Time: 87.3s | Patience: 15/15\n",
      "\n",
      "Early stopping at epoch 40\n",
      "Best validation loss: 55.427138\n",
      "Training completed!\n"
     ]
    }
   ],
   "source": [
    "# def train_vae(model, train_loader, val_loader, epochs=100, lr=0.001, beta=1.0):\n",
    "#     import time\n",
    "#     device = torch.device('cuda' if torch.cuda.is_available() else 'cpu')\n",
    "#     model.to(device)\n",
    "\n",
    "#     optimizer = optim.Adam(model.parameters(), lr=lr)\n",
    "    \n",
    "#     train_losses, val_losses = [], []\n",
    "#     best_val_loss = float('inf')\n",
    "#     patience, patience_counter = 15, 0\n",
    "\n",
    "#     print(f\"Training VAE for {epochs} epochs...\")\n",
    "#     print(\"-\" * 50)\n",
    "\n",
    "#     for epoch in range(epochs):\n",
    "#         start_time = time.time()\n",
    "#         model.train()\n",
    "#         train_loss = 0.0\n",
    "\n",
    "#         for batch_data in train_loader:\n",
    "#             batch_data = batch_data.to(device)\n",
    "#             optimizer.zero_grad()\n",
    "#             reconstructed, mu, logvar = model(batch_data)\n",
    "#             loss = vae_loss_function(reconstructed, batch_data, mu, logvar, beta)\n",
    "#             loss.backward()\n",
    "#             optimizer.step()\n",
    "#             train_loss += loss.item()\n",
    "\n",
    "#         avg_train_loss = train_loss / len(train_loader)\n",
    "#         train_losses.append(avg_train_loss)\n",
    "\n",
    "#         # Validation\n",
    "#         model.eval()\n",
    "#         val_loss = 0.0\n",
    "#         with torch.no_grad():\n",
    "#             for batch_data in val_loader:\n",
    "#                 batch_data = batch_data.to(device)\n",
    "#                 reconstructed, mu, logvar = model(batch_data)\n",
    "#                 loss = vae_loss_function(reconstructed, batch_data, mu, logvar, beta)\n",
    "#                 val_loss += loss.item()\n",
    "\n",
    "#         avg_val_loss = val_loss / len(val_loader)\n",
    "#         val_losses.append(avg_val_loss)\n",
    "\n",
    "#         # Early stopping\n",
    "#         if avg_val_loss < best_val_loss:\n",
    "#             best_val_loss = avg_val_loss\n",
    "#             patience_counter = 0\n",
    "#             best_model = model.state_dict().copy()\n",
    "#         else:\n",
    "#             patience_counter += 1\n",
    "\n",
    "#         epoch_time = time.time() - start_time\n",
    "#         print(f\"Epoch {epoch+1:3d}/{epochs} | Train: {avg_train_loss:.6f} | \"\n",
    "#               f\"Val: {avg_val_loss:.6f} | Time: {epoch_time:.1f}s | \"\n",
    "#               f\"Patience: {patience_counter}/{patience}\")\n",
    "\n",
    "#         if patience_counter >= patience:\n",
    "#             print(f\"\\nEarly stopping at epoch {epoch+1}\")\n",
    "#             print(f\"Best validation loss: {best_val_loss:.6f}\")\n",
    "#             model.load_state_dict(best_model)\n",
    "#             break\n",
    "\n",
    "#     print(\"Training completed!\")\n",
    "#     return model, train_losses, val_losses\n",
    "\n",
    "# def run_training():\n",
    "#     vae = Var_AutoEncoder(input_dim=input_dim)\n",
    "#     print(f\"Model created with {sum(p.numel() for p in vae.parameters())} parameters\")\n",
    "    \n",
    "#     trained_model, train_history, val_history = train_vae(\n",
    "#         model=vae,\n",
    "#         train_loader=train_loader,\n",
    "#         val_loader=val_loader,\n",
    "#         epochs=EPOCHS,\n",
    "#         lr=0.001,\n",
    "#         beta=1.0  # try adjusting if needed\n",
    "#     )\n",
    "#     return trained_model, train_history, val_history\n",
    "\n",
    "# if __name__ == \"__main__\":\n",
    "#     trained_model, train_losses, val_losses = run_training()\n"
   ]
  },
  {
   "cell_type": "code",
   "execution_count": 187,
   "id": "b0d81d91",
   "metadata": {},
   "outputs": [
    {
     "name": "stdout",
     "output_type": "stream",
     "text": [
      "[56.23480357564291, 56.605083162638344, 56.668844247436525, 56.32601110209147, 56.050145954589844, 56.17065241760254, 56.46607338724772, 56.09040340637207, 56.49533712341309, 56.51790496785482, 55.84952262776693, 56.00436241699219, 56.2263526365153, 56.08906923116048, 56.77006789754232, 56.46940072224935, 56.64175782063802, 56.57943565205892, 55.91360615600586, 56.76517719970703, 56.5649850390625, 56.273154201253256, 56.08582905802409, 56.69529984965006, 55.42713797627767, 56.47121505472819, 55.60852111572266, 56.97180229939779, 56.21638835367838, 56.29909125203451, 56.080018266194664, 56.31412007242839, 55.65805122395833, 56.70528441630046, 56.597837065836586, 56.6054274987793, 56.293848002319336, 56.427643423461916, 56.809996627400714, 55.88073922892253]\n"
     ]
    }
   ],
   "source": [
    "print(val_losses)"
   ]
  },
  {
   "cell_type": "code",
   "execution_count": 181,
   "id": "5c06e5bb",
   "metadata": {},
   "outputs": [],
   "source": [
    "torch.save(trained_model.state_dict(), 'model_weights_vae.pth')"
   ]
  },
  {
   "cell_type": "code",
   "execution_count": null,
   "id": "6e308b97",
   "metadata": {},
   "outputs": [],
   "source": [
    "# Variational Autoencoder training summary\n",
    "# Early stopping at epoch 40\n",
    "# Best validation loss: 55.427138"
   ]
  },
  {
   "cell_type": "code",
   "execution_count": null,
   "id": "b9b99d2b",
   "metadata": {},
   "outputs": [],
   "source": [
    "val_loss=[0.001864,0.001826,0.001690,0.0023,0.001759,0.001661]\n",
    "es_data=[100,58,87,100,100,76]"
   ]
  },
  {
   "cell_type": "code",
   "execution_count": null,
   "id": "5d5c5e99",
   "metadata": {},
   "outputs": [],
   "source": [
    "# torch.save(trained_model.state_dict(), 'model_weights.pth')"
   ]
  },
  {
   "cell_type": "code",
   "execution_count": null,
   "id": "4f6f01d5",
   "metadata": {},
   "outputs": [
    {
     "data": {
      "text/plain": [
       "Var_AutoEncoder(\n",
       "  (encoder): Sequential(\n",
       "    (0): Linear(in_features=14, out_features=16, bias=True)\n",
       "    (1): ELU(alpha=1.0)\n",
       "    (2): Linear(in_features=16, out_features=8, bias=True)\n",
       "    (3): ELU(alpha=1.0)\n",
       "    (4): Linear(in_features=8, out_features=4, bias=True)\n",
       "    (5): ELU(alpha=1.0)\n",
       "  )\n",
       "  (fc_mu): Linear(in_features=4, out_features=4, bias=True)\n",
       "  (fc_logvar): Linear(in_features=4, out_features=4, bias=True)\n",
       "  (decoder): Sequential(\n",
       "    (0): Linear(in_features=4, out_features=8, bias=True)\n",
       "    (1): ELU(alpha=1.0)\n",
       "    (2): Linear(in_features=8, out_features=16, bias=True)\n",
       "    (3): ELU(alpha=1.0)\n",
       "    (4): Linear(in_features=16, out_features=14, bias=True)\n",
       "    (5): ELU(alpha=1.0)\n",
       "  )\n",
       ")"
      ]
     },
     "execution_count": 182,
     "metadata": {},
     "output_type": "execute_result"
    }
   ],
   "source": [
    "# model = Var_AutoEncoder(14)\n",
    "# model.load_state_dict(torch.load('model_weights_vae.pth'))\n",
    "# model.eval()  # Set to evaluation mode if you're done training\n"
   ]
  },
  {
   "cell_type": "code",
   "execution_count": null,
   "id": "fc099de8",
   "metadata": {},
   "outputs": [],
   "source": [
    "def test_autoencoder_on_patient(patient_id, model, pipeline, patients_dict):\n",
    "    # Load and concatenate all files for the patient\n",
    "    file_paths = patients_dict[patient_id]\n",
    "    patient_df = pd.concat([pd.read_csv(fp).drop(columns=['Time'], errors='ignore') for fp in file_paths], ignore_index=True)\n",
    "    \n",
    "    # Transform using the fitted pipeline\n",
    "    patient_data_transformed = pipeline.transform(patient_df)\n",
    "    \n",
    "    # Convert to torch tensor\n",
    "    patient_tensor = torch.tensor(patient_data_transformed, dtype=torch.float32)\n",
    "    \n",
    "    # Set model to eval mode\n",
    "    model.eval()\n",
    "    with torch.no_grad():\n",
    "        reconstructed, _, _ = model(patient_tensor)\n",
    "        reconstructed = reconstructed.numpy()\n",
    "    \n",
    "    # Compute MSE per sample\n",
    "    mse = np.mean((patient_data_transformed - reconstructed) ** 2, axis=1)\n",
    "    return mse\n"
   ]
  },
  {
   "cell_type": "code",
   "execution_count": 220,
   "id": "b2b97390",
   "metadata": {},
   "outputs": [
    {
     "name": "stdout",
     "output_type": "stream",
     "text": [
      "[0.0056043  0.03851005 0.03548738 ... 0.00579867 0.02407112 0.03799457]\n"
     ]
    }
   ],
   "source": [
    "pt1 = test_autoencoder_on_patient(7, model, pipeline, patients)\n",
    "print(pt1)"
   ]
  },
  {
   "cell_type": "code",
   "execution_count": null,
   "id": "01f2ed27",
   "metadata": {},
   "outputs": [],
   "source": [
    "# Split 1:\n",
    "# Validation loss with last layer size 4 : 0.002788(32 epochs early stopping) \n",
    "# Validation loss with last layer size 2 : 0.004675(44 epochs early stopping)\n",
    "\n",
    "\n",
    "\n",
    "# Split 2:\n",
    "# Validation loss with last layer size 2 : 0.004106 (50 epochs early stopping)\n",
    "# Validation loss with last layer size 4 : 0.002398 "
   ]
  },
  {
   "cell_type": "code",
   "execution_count": null,
   "id": "3fa2cbd5",
   "metadata": {},
   "outputs": [
    {
     "name": "stdout",
     "output_type": "stream",
     "text": [
      "[0.004674683431860019, 0.004684782382116925, 0.00469373362841117, 0.004695362903038557, 0.004704248259910129, 0.004705207237580081, 0.0047069082263466915, 0.0047108469865960465, 0.004721478466151934, 0.004722061356377529, 0.004726563275438774, 0.004727554408923862, 0.004728323023651987, 0.004729264443834435, 0.004731789243473819, 0.004736439444378368, 0.00473928111875705, 0.004740016887032665, 0.004754757746299926, 0.0047574612140336165, 0.0047576975938683486, 0.004762447838291539, 0.004774810663389101, 0.004776954491345262, 0.004778553976387381, 0.004784346291542778, 0.0047846762068258115, 0.004791186897571056, 0.004801769778790767, 0.004814112285269005, 0.00481815491107817, 0.004828826130649984, 0.004832681567422102, 0.004840048208016394, 0.004850969765254018, 0.004881642424467611, 0.004885203958352065, 0.00488819490352843, 0.004900068276785501, 0.004921042666780962, 0.00501737200984549, 0.005221584855186087, 0.0052586581601837025, 0.0054465185042930015]\n"
     ]
    }
   ],
   "source": [
    "# print(sorted(val_losses))"
   ]
  },
  {
   "cell_type": "code",
   "execution_count": null,
   "id": "578ddced",
   "metadata": {},
   "outputs": [],
   "source": [
    "#      Predicted      Actual\n",
    "# 7    3.58%          3.28%\n",
    "# 8    0.80%          1.2%\n",
    "# 9    10.10%         9.3%\n",
    "# 10   2.80%          2.17%\n",
    "# 11   13.67%         14.6%\n",
    "# 12   2.86%          4.2%"
   ]
  },
  {
   "cell_type": "code",
   "execution_count": 201,
   "id": "64b2db5c",
   "metadata": {},
   "outputs": [
    {
     "name": "stdout",
     "output_type": "stream",
     "text": [
      "Threshold for top 4.2% reconstruction errors: 0.05883\n"
     ]
    }
   ],
   "source": [
    "import pandas as pd\n",
    "import numpy as np\n",
    "\n",
    "# # Load the file and extract the MSE column\n",
    "# df = pd.read_csv('/content/fcs_data_8.csv')  # replace with your actual path\n",
    "# mse_values = df['MSE'].values  # replace 'MSE' if your column is named differently\n",
    "\n",
    "percent_unhealthy = 4.2\n",
    "threshold_index = int((percent_unhealthy / 100) * len(pt1))\n",
    "threshold_value = np.sort(pt1)[-threshold_index]\n",
    "\n",
    "print(f\"Threshold for top {percent_unhealthy}% reconstruction errors: {threshold_value:.5f}\")\n",
    "\n",
    "#change patient and percent values, once done for all unhealthy patients, take average to calculate threshold.\n"
   ]
  },
  {
   "cell_type": "code",
   "execution_count": 214,
   "id": "9025dc36",
   "metadata": {},
   "outputs": [
    {
     "name": "stdout",
     "output_type": "stream",
     "text": [
      "3.91% of cells have reconstruction error > 0.05589\n"
     ]
    }
   ],
   "source": [
    "import pandas as pd\n",
    "import numpy as np\n",
    "\n",
    "# # Load the CSV file\n",
    "# df = pd.read_csv('/content/fcs_data_7.csv')  # or clean_all.csv\n",
    "# mse_values = df['MSE'].values  # update column name if needed\n",
    "\n",
    "# Set threshold\n",
    "threshold = 0.05589\n",
    "\n",
    "# Calculate percentage above threshold\n",
    "num_above = np.sum(pt1 > threshold)\n",
    "total = len(pt1)\n",
    "percent_above = (num_above / total) * 100\n",
    "\n",
    "print(f\"{percent_above:.2f}% of cells have reconstruction error > {threshold}\")"
   ]
  },
  {
   "cell_type": "code",
   "execution_count": null,
   "id": "f394582b",
   "metadata": {},
   "outputs": [],
   "source": [
    "# Variational Autoencoder\n",
    "\n",
    "# Patient 7 : 0.06050\n",
    "# Patient 8 : 0.04864\n",
    "# Patient 9 : 0.04542\n",
    "# Patient 10 : 0.06536\n",
    "# Patient 11 : 0.05658\n",
    "# Patient 12 : 0.05883\n",
    "\n",
    "\n",
    "# Average Threshold : 0.05589\n",
    "\n",
    "# Patient 7 : 3.91%\n",
    "# Patient 8 : 0.41%\n",
    "# Patient 9 : 2.62%\n",
    "# Patient 10 : 3.15%\n",
    "# Patient 11 : 14.85%\n",
    "# Patient 12 : 4.61%"
   ]
  },
  {
   "cell_type": "code",
   "execution_count": null,
   "id": "6327a959",
   "metadata": {},
   "outputs": [],
   "source": [
    "# With last layer size 4 and split 2 :\n",
    "\n",
    "# Patient 9 : 0.01301\n",
    "# Patient 8 : 0.00978\n",
    "# Patient 7 : 0.01170\n",
    "# Patient 10 : 0.01855\n",
    "# Patient 11 : 0.00960\n",
    "# Patient 12 : 0.00994\n",
    "\n",
    "\n",
    "# Average Threshold : 0.012096\n",
    "\n",
    "# Patient 7 : 2.92%\n",
    "# Patient 8 : 0.78%\n",
    "# Patient 9 : 9.78%\n",
    "# Patient 10 : 2.8%\n",
    "# Patient 11 : 10.48%\n",
    "# Patient 12 : 2.9%"
   ]
  },
  {
   "cell_type": "code",
   "execution_count": null,
   "id": "a635fbcd",
   "metadata": {},
   "outputs": [],
   "source": [
    "# With last layer size 2 and split 2 :\n",
    "\n",
    "# Patient 9 : 0.01742\n",
    "# Patient 8 : 0.01505\n",
    "# Patient 7 : 0.02000 \n",
    "# Patient 10 : 0.01859\n",
    "# Patient 11 : 0.01328\n",
    "# Patient 12 : 0.01489\n",
    "\n",
    "\n",
    "# Average Threshold : 0.0165383\n",
    "\n",
    "# Patient 7 : 5.52%\n",
    "# Patient 8 : 0.95%\n",
    "# Patient 9 : 9.83%\n",
    "# Patient 10 : 2.68%\n",
    "# Patient 11 : 9.14%\n",
    "# Patient 12 : 3.38%"
   ]
  },
  {
   "cell_type": "code",
   "execution_count": null,
   "id": "4fcec0b8",
   "metadata": {},
   "outputs": [],
   "source": [
    "# After running on each combination: Best model is saved.\n",
    "\n",
    "# Patient 7 : 0.01297\n",
    "# Patient 8 : 0.00972\n",
    "# Patient 9 : 0.01007\n",
    "# Patient 10 : 0.01488\n",
    "# Patient 11 : 0.01068\n",
    "# Patient 12 : 0.01040\n",
    "\n",
    "\n",
    "# Average Threshold : 0.011453\n",
    "\n",
    "# Patient 7 : 4.08%\n",
    "# Patient 8 : 0.80% \n",
    "# Patient 9 : 8.15%\n",
    "# Patient 10 : 2.97%\n",
    "# Patient 11 : 13.68%\n",
    "# Patient 12 : 3.68%"
   ]
  },
  {
   "cell_type": "code",
   "execution_count": 138,
   "id": "fdeaee11",
   "metadata": {},
   "outputs": [
    {
     "name": "stdout",
     "output_type": "stream",
     "text": [
      "0.011453333333333334\n"
     ]
    }
   ],
   "source": [
    "print((0.01297+0.00972+0.01007+0.01488+0.01068+0.01040)/6)"
   ]
  },
  {
   "cell_type": "code",
   "execution_count": null,
   "id": "87a8a09e",
   "metadata": {},
   "outputs": [],
   "source": [
    "# Early stopping at epoch 94\n",
    "# Best validation loss: 0.002443"
   ]
  },
  {
   "cell_type": "code",
   "execution_count": 152,
   "id": "4681b763",
   "metadata": {},
   "outputs": [],
   "source": [
    "actual_percentages = [3.28, 1.2, 9.3, 2.17, 14.6, 4.2]\n",
    "predicted_percentages2 = [5.52,0.95, 9.83, 2.68, 9.14, 3.38]\n",
    "predicted_percentages4 = [2.92, 0.78, 9.78, 2.8, 10.48, 2.9]\n",
    "predicted_percentages3 = [4.08, 0.80, 8.15, 2.97, 13.68, 3.68]"
   ]
  },
  {
   "cell_type": "code",
   "execution_count": 163,
   "id": "3f553a70",
   "metadata": {},
   "outputs": [
    {
     "data": {
      "image/png": "[encoded data removed]",
      "text/plain": [
       "<Figure size 800x400 with 1 Axes>"
      ]
     },
     "metadata": {},
     "output_type": "display_data"
    }
   ],
   "source": [
    "import matplotlib.pyplot as plt\n",
    "import seaborn as sns\n",
    "\n",
    "# Patient IDs\n",
    "patients_ = ['P7', 'P8', 'P9', 'P10', 'P11', 'P12']\n",
    "\n",
    "# # Predicted percentages by model\n",
    "# predicted_percentages4 = [2.92, 0.78, 9.78, 2.8, 10.48, 2.9]\n",
    "\n",
    "# Actual ground truth percentages\n",
    "actual_percentages = [3.28, 1.2, 9.3, 2.17, 14.6, 4.2]\n",
    "\n",
    "# Create a DataFrame for visualization\n",
    "df_plot = pd.DataFrame({\n",
    "    'Patient': patients_,\n",
    "    'Predicted': predicted_percentages3,\n",
    "    'Actual': actual_percentages\n",
    "})\n",
    "\n",
    "# Set plot style\n",
    "sns.set(style=\"whitegrid\")\n",
    "plt.figure(figsize=(8, 4))\n",
    "\n",
    "# Plot bars\n",
    "bar_width = 0.35\n",
    "x = np.arange(len(patients_))\n",
    "plt.bar(x - bar_width/2, df_plot['Predicted'], bar_width, label='Predicted %', color='skyblue')\n",
    "plt.bar(x + bar_width/2, df_plot['Actual'], bar_width, label='Actual %', color='salmon')\n",
    "\n",
    "# Add labels and legend\n",
    "plt.xlabel('Patients')\n",
    "plt.ylabel('% of Cells Above Threshold')\n",
    "plt.title('MRD Prediction vs Actual for Patients 7 to 12 (Last Layer Size 4)')\n",
    "plt.xticks(ticks=x, labels=patients_)\n",
    "plt.legend()\n",
    "plt.tight_layout()\n",
    "plt.show()"
   ]
  },
  {
   "cell_type": "code",
   "execution_count": 169,
   "id": "3978dd25",
   "metadata": {},
   "outputs": [
    {
     "data": {
      "image/png": "[encoded data removed]",
      "text/plain": [
       "<Figure size 1000x500 with 1 Axes>"
      ]
     },
     "metadata": {},
     "output_type": "display_data"
    }
   ],
   "source": [
    "plt.figure(figsize=(10, 5))\n",
    "plt.plot(patients_, predicted_percentages3, marker='o', label='Predicted %', linestyle='-', color='blue')\n",
    "plt.plot(patients_, actual_percentages, marker='s', label='Actual %', linestyle='--', color='red')\n",
    "\n",
    "plt.xlabel('Patients')\n",
    "plt.ylabel('% of Cells Above Threshold')\n",
    "plt.title('Trend: Predicted vs Actual MRD Percentages (Last Layer Size 4)')\n",
    "plt.legend()\n",
    "plt.grid(True)\n",
    "plt.tight_layout()\n",
    "plt.show()"
   ]
  },
  {
   "cell_type": "code",
   "execution_count": null,
   "id": "1240e162",
   "metadata": {},
   "outputs": [
    {
     "data": {
      "image/png": "[encoded data removed]",
      "text/plain": [
       "<Figure size 800x400 with 1 Axes>"
      ]
     },
     "metadata": {},
     "output_type": "display_data"
    }
   ],
   "source": [
    "import matplotlib.pyplot as plt\n",
    "import seaborn as sns\n",
    "\n",
    "# Patient IDs\n",
    "patients = ['P7', 'P8', 'P9', 'P10', 'P11', 'P12']\n",
    "\n",
    "# Predicted percentages by model\n",
    "predicted_percentages4 = [2.92, 0.78, 9.78, 2.8, 10.48, 2.9]\n",
    "\n",
    "# Actual ground truth percentages\n",
    "actual_percentages = [3.28, 1.2, 9.3, 2.17, 14.6, 4.2]\n",
    "\n",
    "# Create a DataFrame for visualization\n",
    "df_plot = pd.DataFrame({\n",
    "    'Patient': patients,\n",
    "    'Predicted': predicted_percentages4,\n",
    "    'Actual': actual_percentages\n",
    "})\n",
    "\n",
    "# Set plot style\n",
    "sns.set(style=\"whitegrid\")\n",
    "plt.figure(figsize=(8, 4))\n",
    "\n",
    "# Plot bars\n",
    "bar_width = 0.35\n",
    "x = np.arange(len(patients))\n",
    "plt.bar(x - bar_width/2, df_plot['Predicted'], bar_width, label='Predicted %', color='skyblue')\n",
    "plt.bar(x + bar_width/2, df_plot['Actual'], bar_width, label='Actual %', color='salmon')\n",
    "\n",
    "# Add labels and legend\n",
    "plt.xlabel('Patients')\n",
    "plt.ylabel('% of Cells Above Threshold')\n",
    "plt.title('MRD Prediction vs Actual for Patients 7 to 12 (Last Layer Size 4)')\n",
    "plt.xticks(ticks=x, labels=patients)\n",
    "plt.legend()\n",
    "plt.tight_layout()\n",
    "plt.show()"
   ]
  },
  {
   "cell_type": "code",
   "execution_count": null,
   "id": "29b6dfda",
   "metadata": {},
   "outputs": [
    {
     "data": {
      "image/png": "[encoded data removed]",
      "text/plain": [
       "<Figure size 800x400 with 1 Axes>"
      ]
     },
     "metadata": {},
     "output_type": "display_data"
    }
   ],
   "source": [
    "import matplotlib.pyplot as plt\n",
    "import seaborn as sns\n",
    "\n",
    "# Patient IDs\n",
    "patients = ['P7', 'P8', 'P9', 'P10', 'P11', 'P12']\n",
    "\n",
    "# Predicted percentages by model\n",
    "predicted_percentages2 = [5.52,0.95, 9.83, 2.68, 9.14, 3.38]\n",
    "\n",
    "# Actual ground truth percentages\n",
    "actual_percentages = [3.28, 1.2, 9.3, 2.17, 14.6, 4.2]\n",
    "\n",
    "# Create a DataFrame for visualization\n",
    "df_plot = pd.DataFrame({\n",
    "    'Patient': patients,\n",
    "    'Predicted': predicted_percentages2,\n",
    "    'Actual': actual_percentages\n",
    "})\n",
    "\n",
    "# Set plot style\n",
    "sns.set(style=\"whitegrid\")\n",
    "plt.figure(figsize=(8, 4))\n",
    "\n",
    "# Plot bars\n",
    "bar_width = 0.35\n",
    "x = np.arange(len(patients))\n",
    "plt.bar(x - bar_width/2, df_plot['Predicted'], bar_width, label='Predicted %', color='skyblue')\n",
    "plt.bar(x + bar_width/2, df_plot['Actual'], bar_width, label='Actual %', color='salmon')\n",
    "\n",
    "# Add labels and legend\n",
    "plt.xlabel('Patients')\n",
    "plt.ylabel('% of Cells Above Threshold')\n",
    "plt.title('MRD Prediction vs Actual for Patients 7 to 12 (Last Layer Size 2)')\n",
    "plt.xticks(ticks=x, labels=patients)\n",
    "plt.legend()\n",
    "plt.tight_layout()\n",
    "plt.show()"
   ]
  },
  {
   "cell_type": "code",
   "execution_count": 54,
   "id": "fdb2d743",
   "metadata": {},
   "outputs": [
    {
     "data": {
      "image/png": "[encoded data removed]",
      "text/plain": [
       "<Figure size 1000x500 with 1 Axes>"
      ]
     },
     "metadata": {},
     "output_type": "display_data"
    }
   ],
   "source": [
    "plt.figure(figsize=(10, 5))\n",
    "plt.plot(patients, predicted_percentages2, marker='o', label='Predicted %', linestyle='-', color='blue')\n",
    "plt.plot(patients, actual_percentages, marker='s', label='Actual %', linestyle='--', color='red')\n",
    "\n",
    "plt.xlabel('Patients')\n",
    "plt.ylabel('% of Cells Above Threshold')\n",
    "plt.title('Trend: Predicted vs Actual MRD Percentages (Last Layer Size 2)')\n",
    "plt.legend()\n",
    "plt.grid(True)\n",
    "plt.tight_layout()\n",
    "plt.show()"
   ]
  },
  {
   "cell_type": "code",
   "execution_count": 55,
   "id": "2c81ba90",
   "metadata": {},
   "outputs": [
    {
     "data": {
      "image/png": "[encoded data removed]",
      "text/plain": [
       "<Figure size 1000x500 with 1 Axes>"
      ]
     },
     "metadata": {},
     "output_type": "display_data"
    }
   ],
   "source": [
    "plt.figure(figsize=(10, 5))\n",
    "plt.plot(patients, predicted_percentages4, marker='o', label='Predicted %', linestyle='-', color='blue')\n",
    "plt.plot(patients, actual_percentages, marker='s', label='Actual %', linestyle='--', color='red')\n",
    "\n",
    "plt.xlabel('Patients')\n",
    "plt.ylabel('% of Cells Above Threshold')\n",
    "plt.title('Trend: Predicted vs Actual MRD Percentages (Last Layer Size 4)')\n",
    "plt.legend()\n",
    "plt.grid(True)\n",
    "plt.tight_layout()\n",
    "plt.show()"
   ]
  }
 ],
 "metadata": {
  "kernelspec": {
   "display_name": "base",
   "language": "python",
   "name": "python3"
  },
  "language_info": {
   "codemirror_mode": {
    "name": "ipython",
    "version": 3
   },
   "file_extension": ".py",
   "mimetype": "text/x-python",
   "name": "python",
   "nbconvert_exporter": "python",
   "pygments_lexer": "ipython3",
   "version": "3.12.7"
  }
 },
 "nbformat": 4,
 "nbformat_minor": 5
}
